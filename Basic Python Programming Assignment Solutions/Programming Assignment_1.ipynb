{
 "cells": [
  {
   "cell_type": "markdown",
   "id": "c6dd29a9",
   "metadata": {},
   "source": [
    "# Programming Assignment_1"
   ]
  },
  {
   "cell_type": "markdown",
   "id": "24b3e291",
   "metadata": {},
   "source": [
    "### 1. Write a Python program to print \"Hello Python\" ?\n",
    "\n",
    "###### Ans:"
   ]
  },
  {
   "cell_type": "code",
   "execution_count": 1,
   "id": "6addab8c",
   "metadata": {},
   "outputs": [
    {
     "name": "stdout",
     "output_type": "stream",
     "text": [
      "Hello  Python\n"
     ]
    }
   ],
   "source": [
    "print(\"Hello  Python\")"
   ]
  },
  {
   "cell_type": "markdown",
   "id": "6a7635fa",
   "metadata": {},
   "source": [
    "### 2. Write a Python program to do arithmetical operations addition and division.?\n",
    "###### Ans:"
   ]
  },
  {
   "cell_type": "code",
   "execution_count": 2,
   "id": "e87c62db",
   "metadata": {},
   "outputs": [],
   "source": [
    "class Operation():\n",
    "    def __init__(self,num1,num2,initial_number=0.0):\n",
    "        self.initial_number=initial_number\n",
    "        self.num1=num1\n",
    "        self.num2=num2\n",
    "        \n",
    "    def addiction(self):\n",
    "        self.initial_number= self.num1+self.num2\n",
    "        print(f\" addiction of {self.num1} and {self.num2} is equal to {self.initial_number}\")\n",
    "        \n",
    "    def division(self):\n",
    "        self.initial_number= self.num1 / self.num2\n",
    "        print(f\" division of {self.num1} and {self.num2} is equal to {self.initial_number}\")"
   ]
  },
  {
   "cell_type": "code",
   "execution_count": 3,
   "id": "75b1dccb",
   "metadata": {},
   "outputs": [],
   "source": [
    "operation=Operation(3,2,0)    # create object of class"
   ]
  },
  {
   "cell_type": "code",
   "execution_count": 4,
   "id": "f59d052b",
   "metadata": {},
   "outputs": [
    {
     "name": "stdout",
     "output_type": "stream",
     "text": [
      " addiction of 3 and 2 is equal to 5\n"
     ]
    }
   ],
   "source": [
    "operation.addiction()"
   ]
  },
  {
   "cell_type": "code",
   "execution_count": 5,
   "id": "6d76d141",
   "metadata": {},
   "outputs": [
    {
     "name": "stdout",
     "output_type": "stream",
     "text": [
      " division of 3 and 2 is equal to 1.5\n"
     ]
    }
   ],
   "source": [
    "operation.division()"
   ]
  },
  {
   "cell_type": "markdown",
   "id": "5531f67d",
   "metadata": {},
   "source": [
    "### 3. Write a Python program to find the area of a triangle?\n",
    "###### Ans:"
   ]
  },
  {
   "cell_type": "code",
   "execution_count": 12,
   "id": "b907162e",
   "metadata": {},
   "outputs": [
    {
     "name": "stdout",
     "output_type": "stream",
     "text": [
      "Area is triangle is 25.000000\n"
     ]
    }
   ],
   "source": [
    "# Python program to find Area of a triangle\n",
    "\n",
    "def Find_Area_of_triangle(b,h):\n",
    "    return 0.5 * b * h\n",
    "        \n",
    "# Driver method\n",
    "print(\"Area is triangle is %.6f\"% Find_Area_of_triangle(10,5));   "
   ]
  },
  {
   "cell_type": "markdown",
   "id": "a21b9691",
   "metadata": {},
   "source": [
    "### 4. Write a Python program to swap two variables?\n",
    "###### Ans:"
   ]
  },
  {
   "cell_type": "code",
   "execution_count": 13,
   "id": "ab1d4305",
   "metadata": {},
   "outputs": [
    {
     "name": "stdout",
     "output_type": "stream",
     "text": [
      "a= 20\n",
      "b= 10\n"
     ]
    }
   ],
   "source": [
    "a=10\n",
    "b=20\n",
    "\n",
    "temp=a\n",
    "a=b\n",
    "b=temp\n",
    "\n",
    "print(\"a=\", a)\n",
    "print(\"b=\",b)"
   ]
  },
  {
   "cell_type": "markdown",
   "id": "6e0775e6",
   "metadata": {},
   "source": [
    "### 5. Write a Python program to generate a random number?\n",
    "###### Ans:"
   ]
  },
  {
   "cell_type": "code",
   "execution_count": null,
   "id": "d301f1eb",
   "metadata": {},
   "outputs": [],
   "source": [
    "We can use random() function or randint() function from random module to genrate random numbers"
   ]
  },
  {
   "cell_type": "code",
   "execution_count": 25,
   "id": "e9291a99",
   "metadata": {},
   "outputs": [
    {
     "name": "stdout",
     "output_type": "stream",
     "text": [
      "Random number between 0 an 1 is: 0.037831656140172254\n",
      "Random number between 10 and 20 is: 19\n"
     ]
    }
   ],
   "source": [
    "import random\n",
    "\n",
    "# method1\n",
    "number = random.random()  # To genrate random number between 0 and 1\n",
    "print(\"Random number between 0 an 1 is:\", numbers)\n",
    "\n",
    "\n",
    "# method2\n",
    "a=10;b=20\n",
    "number = random.randint(a,b)    # To genrate random number between specific range i.e. from 10 to 20\n",
    "print(f\"Random number between {a} and {b} is:\", number)"
   ]
  },
  {
   "cell_type": "code",
   "execution_count": null,
   "id": "e53949c2",
   "metadata": {},
   "outputs": [],
   "source": []
  }
 ],
 "metadata": {
  "kernelspec": {
   "display_name": "Python 3 (ipykernel)",
   "language": "python",
   "name": "python3"
  },
  "language_info": {
   "codemirror_mode": {
    "name": "ipython",
    "version": 3
   },
   "file_extension": ".py",
   "mimetype": "text/x-python",
   "name": "python",
   "nbconvert_exporter": "python",
   "pygments_lexer": "ipython3",
   "version": "3.9.12"
  }
 },
 "nbformat": 4,
 "nbformat_minor": 5
}
