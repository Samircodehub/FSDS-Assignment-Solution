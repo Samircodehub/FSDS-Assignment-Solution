{
 "cells": [
  {
   "cell_type": "markdown",
   "id": "9f5ce912",
   "metadata": {},
   "source": [
    "# Programming Assignment_2"
   ]
  },
  {
   "cell_type": "markdown",
   "id": "70a01bf1",
   "metadata": {},
   "source": [
    "### 1. Write a Python program to convert kilometers to miles?"
   ]
  },
  {
   "cell_type": "code",
   "execution_count": 3,
   "id": "0f5cfc2a",
   "metadata": {},
   "outputs": [
    {
     "name": "stdout",
     "output_type": "stream",
     "text": [
      "Enter the distance in kilometers: 10\n",
      "Distance in miles is 6.2137119\n"
     ]
    }
   ],
   "source": [
    "# Since 1 kilometre is equal to 0.62137119 miles\n",
    "\n",
    "kilometers = float(input(\"Enter the distance in kilometers: \"))\n",
    "\n",
    "def km_to_miles(kilometers):\n",
    "    miles = kilometers * 0.62137119\n",
    "    return miles\n",
    "\n",
    "x = km_to_miles(kilometers)\n",
    "\n",
    "# print the distance\n",
    "print(\"Distance in miles is\",x)"
   ]
  },
  {
   "cell_type": "markdown",
   "id": "9468c057",
   "metadata": {},
   "source": [
    "### 2. Write a Python program to convert Celsius to Fahrenheit?"
   ]
  },
  {
   "cell_type": "code",
   "execution_count": 5,
   "id": "a232f32e",
   "metadata": {},
   "outputs": [
    {
     "name": "stdout",
     "output_type": "stream",
     "text": [
      "Enter the temperature in Celsius : 10\n",
      "Temperature in Fahrenheit is  50.0\n"
     ]
    }
   ],
   "source": [
    "Temperature=float(input(\"Enter the temperature in Celsius : \"))   # since value must pass in float\n",
    "    \n",
    "def celcius_to_F(Temperature):\n",
    "    converted = 9 / 5 * Temperature + 32      # formula\n",
    "    return converted\n",
    "\n",
    "x = celcius_to_F(Temperature)\n",
    "\n",
    "\n",
    "# print the temperature\n",
    "print(\"Temperature in Fahrenheit is \",x)"
   ]
  },
  {
   "cell_type": "markdown",
   "id": "0ea10fa4",
   "metadata": {},
   "source": [
    "### 3. Write a Python program to display calendar"
   ]
  },
  {
   "cell_type": "code",
   "execution_count": 8,
   "id": "690c991f",
   "metadata": {},
   "outputs": [
    {
     "name": "stdout",
     "output_type": "stream",
     "text": [
      "Enter the year: 2023\n",
      "                                  2023\n",
      "\n",
      "      January                   February                   March\n",
      "Mo Tu We Th Fr Sa Su      Mo Tu We Th Fr Sa Su      Mo Tu We Th Fr Sa Su\n",
      "                   1             1  2  3  4  5             1  2  3  4  5\n",
      " 2  3  4  5  6  7  8       6  7  8  9 10 11 12       6  7  8  9 10 11 12\n",
      " 9 10 11 12 13 14 15      13 14 15 16 17 18 19      13 14 15 16 17 18 19\n",
      "16 17 18 19 20 21 22      20 21 22 23 24 25 26      20 21 22 23 24 25 26\n",
      "23 24 25 26 27 28 29      27 28                     27 28 29 30 31\n",
      "30 31\n",
      "\n",
      "       April                      May                       June\n",
      "Mo Tu We Th Fr Sa Su      Mo Tu We Th Fr Sa Su      Mo Tu We Th Fr Sa Su\n",
      "                1  2       1  2  3  4  5  6  7                1  2  3  4\n",
      " 3  4  5  6  7  8  9       8  9 10 11 12 13 14       5  6  7  8  9 10 11\n",
      "10 11 12 13 14 15 16      15 16 17 18 19 20 21      12 13 14 15 16 17 18\n",
      "17 18 19 20 21 22 23      22 23 24 25 26 27 28      19 20 21 22 23 24 25\n",
      "24 25 26 27 28 29 30      29 30 31                  26 27 28 29 30\n",
      "\n",
      "        July                     August                  September\n",
      "Mo Tu We Th Fr Sa Su      Mo Tu We Th Fr Sa Su      Mo Tu We Th Fr Sa Su\n",
      "                1  2          1  2  3  4  5  6                   1  2  3\n",
      " 3  4  5  6  7  8  9       7  8  9 10 11 12 13       4  5  6  7  8  9 10\n",
      "10 11 12 13 14 15 16      14 15 16 17 18 19 20      11 12 13 14 15 16 17\n",
      "17 18 19 20 21 22 23      21 22 23 24 25 26 27      18 19 20 21 22 23 24\n",
      "24 25 26 27 28 29 30      28 29 30 31               25 26 27 28 29 30\n",
      "31\n",
      "\n",
      "      October                   November                  December\n",
      "Mo Tu We Th Fr Sa Su      Mo Tu We Th Fr Sa Su      Mo Tu We Th Fr Sa Su\n",
      "                   1             1  2  3  4  5                   1  2  3\n",
      " 2  3  4  5  6  7  8       6  7  8  9 10 11 12       4  5  6  7  8  9 10\n",
      " 9 10 11 12 13 14 15      13 14 15 16 17 18 19      11 12 13 14 15 16 17\n",
      "16 17 18 19 20 21 22      20 21 22 23 24 25 26      18 19 20 21 22 23 24\n",
      "23 24 25 26 27 28 29      27 28 29 30               25 26 27 28 29 30 31\n",
      "30 31\n",
      "\n"
     ]
    }
   ],
   "source": [
    "import calendar\n",
    "\n",
    "year = int(input(\"Enter the year: \"))\n",
    "def display_calendar():\n",
    "    print(calendar.calendar(year))\n",
    "    \n",
    "display_calendar()    "
   ]
  },
  {
   "cell_type": "markdown",
   "id": "3899df7f",
   "metadata": {},
   "source": [
    "### 4. Write a Python program to solve quadratic equation?"
   ]
  },
  {
   "cell_type": "code",
   "execution_count": 1,
   "id": "fcc436d2",
   "metadata": {},
   "outputs": [
    {
     "name": "stdout",
     "output_type": "stream",
     "text": [
      "Enter the coefficient of x^2: 9\n",
      "Enter the coefficient of x: 6\n",
      "Enter the constant term: 2\n",
      "The solutions are (-0.3333333333333333-0.3333333333333333j) and (-0.3333333333333333+0.3333333333333333j)\n"
     ]
    }
   ],
   "source": [
    "import cmath\n",
    "\n",
    "a = float(input(\"Enter the coefficient of x^2: \"))\n",
    "b = float(input(\"Enter the coefficient of x: \"))\n",
    "c = float(input(\"Enter the constant term: \"))\n",
    "\n",
    "d = (b**2) - (4*a*c)     # calculate discriminant\n",
    "\n",
    "sol1 = (-b-cmath.sqrt(d))/(2*a)\n",
    "sol2 = (-b+cmath.sqrt(d))/(2*a)\n",
    "\n",
    "# print the solutions\n",
    "print(\"The solutions are {0} and {1}\".format(sol1, sol2))"
   ]
  },
  {
   "cell_type": "markdown",
   "id": "2edcbf83",
   "metadata": {},
   "source": [
    "### 5. Write a Python program to swap two variables without temp variable?"
   ]
  },
  {
   "cell_type": "code",
   "execution_count": 5,
   "id": "89a507b4",
   "metadata": {},
   "outputs": [
    {
     "name": "stdout",
     "output_type": "stream",
     "text": [
      "Before swapping: a = 2 and b = 4\n",
      "After swapping: a = 4 and b = 2\n"
     ]
    }
   ],
   "source": [
    "a = 2\n",
    "b = 4\n",
    "\n",
    "print(\"Before swapping: a =\", a, \"and b =\", b)\n",
    "\n",
    "a, b = b, a\n",
    "\n",
    "print(\"After swapping: a =\", a, \"and b =\", b)"
   ]
  },
  {
   "cell_type": "code",
   "execution_count": null,
   "id": "65c5f12d",
   "metadata": {},
   "outputs": [],
   "source": []
  }
 ],
 "metadata": {
  "kernelspec": {
   "display_name": "Python 3 (ipykernel)",
   "language": "python",
   "name": "python3"
  },
  "language_info": {
   "codemirror_mode": {
    "name": "ipython",
    "version": 3
   },
   "file_extension": ".py",
   "mimetype": "text/x-python",
   "name": "python",
   "nbconvert_exporter": "python",
   "pygments_lexer": "ipython3",
   "version": "3.9.12"
  }
 },
 "nbformat": 4,
 "nbformat_minor": 5
}
