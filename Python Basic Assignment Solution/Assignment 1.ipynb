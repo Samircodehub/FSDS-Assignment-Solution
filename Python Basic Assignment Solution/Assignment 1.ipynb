{
 "cells": [
  {
   "cell_type": "markdown",
   "id": "1a8ad66d",
   "metadata": {},
   "source": [
    "### 1.In the below elements which of them are values or an expression? eg:- values can be integer or string and expressions will be mathematical operators.\n",
    "*\n",
    "hello\n",
    "-87.8\n",
    "-\n",
    "/\n",
    "+\n",
    "6"
   ]
  },
  {
   "cell_type": "markdown",
   "id": "ae3aa191",
   "metadata": {},
   "source": [
    "Ans:\n",
    "* Expression are * - / + \n",
    "* Values are hello,-87.8, 6\n"
   ]
  },
  {
   "cell_type": "markdown",
   "id": "cb24416a",
   "metadata": {},
   "source": [
    "### 2. What is the difference between string and variable?"
   ]
  },
  {
   "cell_type": "markdown",
   "id": "d85f430d",
   "metadata": {},
   "source": [
    "Ans:\n",
    "* In programming luanguage the string is sequence of character that may be letter, number, symbol or space which helps to present information and string represent in the single or double quotation mark. \n",
    "* On the other hand variables can be any text which is used to store or hold information such as text or number using assignment operators and variables do not have any speific representation like quotation mark "
   ]
  },
  {
   "cell_type": "markdown",
   "id": "f6aac5a1",
   "metadata": {},
   "source": [
    "### 3. Describe three different data types."
   ]
  },
  {
   "cell_type": "markdown",
   "id": "bb6a9ad2",
   "metadata": {},
   "source": [
    "Ans:\n",
    "* There are three basic data types are integer datatype, float datatype and complex numbers datatype\n",
    "1. Integer Datatype: It will be whole number that may be positive or negative or zero number for example 10,-10,0. In this number can't be a decimal or fraction number. It can be used to store value like counting rooms or counting students\n",
    "2. Float Datatype: It will be decimal number or fraction number for example 1.2, -1.2,0.05. So it can be used to store value of mesurment like temperature or distance or height\n",
    "3. Complex Datatype: It will be a complex number which is combination of real and imaginary part. for example 2+4j, so here 2 is a real part while 4j is a imaginary part"
   ]
  },
  {
   "cell_type": "code",
   "execution_count": 12,
   "id": "2246b8cf",
   "metadata": {},
   "outputs": [
    {
     "name": "stdout",
     "output_type": "stream",
     "text": [
      " datatype of a is <class 'int'> \n",
      " datatype of b is <class 'float'> \n",
      " datatype of c is <class 'complex'> \n",
      " datatype of d is <class 'bool'>\n"
     ]
    }
   ],
   "source": [
    "# Example:\n",
    "a=10;\n",
    "b=10.5\n",
    "c=4j\n",
    "d=True\n",
    "\n",
    "print(f\" datatype of a is {type(a)} \\n datatype of b is {type(b)} \\n datatype of c is {type(c)} \\n datatype of d is {type(d)}\") "
   ]
  },
  {
   "cell_type": "markdown",
   "id": "c634cde0",
   "metadata": {},
   "source": [
    "### 4. What is an expression made up of? What do all expressions do?\n",
    "\n",
    "###### Ans:"
   ]
  },
  {
   "cell_type": "markdown",
   "id": "2d320fcc",
   "metadata": {},
   "source": [
    "* In programing expression is a combination of values,symbol,varibles an operator which is used to produce a one or more output values. Here varibles can be any text which use to store information. and here we can use any mathematical operators for example adiction, substraction, division, multilication, camparision. Expression may use camparision operators to produce any  required value.\n",
    "* All expression have same purpose to produce a output value based on given expression. Expression can written in loop formate to produce any result by use of output value as input value"
   ]
  },
  {
   "cell_type": "code",
   "execution_count": 14,
   "id": "a3d6104b",
   "metadata": {},
   "outputs": [
    {
     "name": "stdout",
     "output_type": "stream",
     "text": [
      "Hello, my name is samir\n"
     ]
    }
   ],
   "source": [
    "# for example\n",
    "class Person:\n",
    "    def __init__(self, name):\n",
    "        self.name = name\n",
    "\n",
    "    def greet(self):\n",
    "        print(f\"Hello, my name is {self.name}\")\n",
    "\n",
    "person = Person(\"samir\")  # class object\n",
    "person.greet()        "
   ]
  },
  {
   "cell_type": "code",
   "execution_count": 16,
   "id": "80a1225b",
   "metadata": {},
   "outputs": [
    {
     "name": "stdout",
     "output_type": "stream",
     "text": [
      "sum of 15 and 12 is 27\n"
     ]
    }
   ],
   "source": [
    "# Python1 program to add two numbers\n",
    " \n",
    "num1 = 15\n",
    "num2 = 12\n",
    " \n",
    "# Adding two numbers\n",
    "sum = num1 + num2\n",
    "\n",
    "print(\"sum of {0} and {1} is {2}\" .format(num1,num2, sum))"
   ]
  },
  {
   "cell_type": "markdown",
   "id": "35a85a63",
   "metadata": {},
   "source": [
    "### 5. This assignment statements, like spam = 10. What is the difference between an expression and a statement?\n",
    "\n",
    "###### Ans:"
   ]
  },
  {
   "cell_type": "markdown",
   "id": "15d19d2c",
   "metadata": {},
   "source": [
    "* In programming expression is a combination of values, variables and opertors that can be use to produce a required output value.\n",
    "* while statment is more about perform actions in a program. There can be many statment like assignment statements, control flow statment etc.\n",
    "\n",
    "* As in given problem, we have 'spam=10' is a assignment statment\n",
    "* here '10' is a expression which is assigned to 'spam' varible using '=' assignment operator.\n",
    "\n",
    "* In genral expression used within statments to produce value and we can say expression is a part of statment. And the result of this statment we can use anywhere in program."
   ]
  },
  {
   "cell_type": "markdown",
   "id": "c679012d",
   "metadata": {},
   "source": [
    "### 6. After running the following code, what does the variable bacon contain?\n",
    "bacon = 22;  \n",
    "bacon + 1\n",
    "\n",
    "###### Ans:"
   ]
  },
  {
   "cell_type": "code",
   "execution_count": 18,
   "id": "34fe694e",
   "metadata": {},
   "outputs": [
    {
     "name": "stdout",
     "output_type": "stream",
     "text": [
      "22\n"
     ]
    }
   ],
   "source": [
    "bacon = 22\n",
    "bacon + 1\n",
    "\n",
    "print(bacon)"
   ]
  },
  {
   "cell_type": "markdown",
   "id": "cddec45b",
   "metadata": {},
   "source": [
    "Here bacon variable firstly hold value of 22, in second line 'bacon +1' is an expression which dont have any varible to store its output, So after running given code we would have bacon contains 22."
   ]
  },
  {
   "cell_type": "markdown",
   "id": "7552ca33",
   "metadata": {},
   "source": [
    "### 7. What should the values of the following two terms be?\n",
    "'spam'+'spamspam' ; \n",
    "spam*3\n",
    "\n",
    "###### Ans:"
   ]
  },
  {
   "cell_type": "code",
   "execution_count": 22,
   "id": "7b7ae6b8",
   "metadata": {},
   "outputs": [
    {
     "name": "stdout",
     "output_type": "stream",
     "text": [
      "spamspamspam\n"
     ]
    }
   ],
   "source": [
    "print('spam'+'spamspam')"
   ]
  },
  {
   "cell_type": "code",
   "execution_count": 23,
   "id": "92ed07bf",
   "metadata": {},
   "outputs": [
    {
     "name": "stdout",
     "output_type": "stream",
     "text": [
      "spamspamspam\n"
     ]
    }
   ],
   "source": [
    "print('spam'*3)"
   ]
  },
  {
   "cell_type": "markdown",
   "id": "c6e5d68e",
   "metadata": {},
   "source": [
    "* Both the expression gives same output as spamspamspam. \n",
    "* In first expression result is evaluate based on string concatenation\n",
    "* In second we use * operator which genrally used in python for string repetition, So here spam string repeat 3 times and produce a result in concatination formate i.e. spamspamspam. The operation in second expression can be said like string multiplication"
   ]
  },
  {
   "cell_type": "markdown",
   "id": "ee6c3c1e",
   "metadata": {},
   "source": [
    "### 8. Why is eggs a valid variable name while 100 is invalid?\n",
    "\n",
    "\n",
    "###### Ans:"
   ]
  },
  {
   "cell_type": "markdown",
   "id": "29c77253",
   "metadata": {},
   "source": [
    "\n",
    "* In python, variable name must be start with a letter or a underscore followed by any letter or any digit. That means in python variable name can't start with digit\n",
    "* In given problem 'eggs' is a valid variable because it start with letter\n",
    "* On the other hand '100' is not valid variable because it start with a digit."
   ]
  },
  {
   "cell_type": "markdown",
   "id": "3cb88f4a",
   "metadata": {},
   "source": [
    "### 9. What three functions can be used to get the integer, floating-point number, or string version of a value?\n",
    "\n",
    "\n",
    "###### Ans:"
   ]
  },
  {
   "cell_type": "markdown",
   "id": "c6a0d68f",
   "metadata": {},
   "source": [
    "*  The following three function can be used to get the integer, floating-point number, or string version of a value\n",
    "1. int()  This function can be use to convert  value to integer\n",
    "2. float()  This function can be use to convert  value to float\n",
    "3. str()  This function can be use to convert  value to string"
   ]
  },
  {
   "cell_type": "code",
   "execution_count": 32,
   "id": "18d2fc80",
   "metadata": {},
   "outputs": [
    {
     "name": "stdout",
     "output_type": "stream",
     "text": [
      " conversion of 10.5 to integer is 10 \n",
      "  conversion of 10 to float is 10.0 \n",
      " conversion of 2 to string is 2\n",
      " datatype of 10.5 become <class 'int'> \n",
      " datatype of 10 become <class 'float'> \n",
      " datatype of 2 become <class 'str'>\n"
     ]
    }
   ],
   "source": [
    "# For example\n",
    "a=10.5;\n",
    "b=10\n",
    "c=2\n",
    "\n",
    "print(f\" conversion of 10.5 to integer is {int(a)} \\n  conversion of 10 to float is {float(b)} \\n conversion of 2 to string is {str(c)}\")\n",
    "\n",
    "print(f\" datatype of 10.5 become {type(int(a))} \\n datatype of 10 become {type(float(b))} \\n datatype of 2 become {type(str(c))}\") "
   ]
  },
  {
   "cell_type": "markdown",
   "id": "23e5c1fe",
   "metadata": {},
   "source": [
    "### 10. Why does this expression cause an error? How can you fix it?\n",
    "'I have eaten'+ 99 +'burritos'\n",
    "\n",
    "\n",
    "###### Ans:"
   ]
  },
  {
   "cell_type": "code",
   "execution_count": 24,
   "id": "d5cdb255",
   "metadata": {},
   "outputs": [
    {
     "ename": "TypeError",
     "evalue": "can only concatenate str (not \"int\") to str",
     "output_type": "error",
     "traceback": [
      "\u001b[1;31m---------------------------------------------------------------------------\u001b[0m",
      "\u001b[1;31mTypeError\u001b[0m                                 Traceback (most recent call last)",
      "Input \u001b[1;32mIn [24]\u001b[0m, in \u001b[0;36m<cell line: 1>\u001b[1;34m()\u001b[0m\n\u001b[1;32m----> 1\u001b[0m \u001b[38;5;124;43m'\u001b[39;49m\u001b[38;5;124;43mI have eaten\u001b[39;49m\u001b[38;5;124;43m'\u001b[39;49m\u001b[38;5;241;43m+\u001b[39;49m\u001b[43m \u001b[49m\u001b[38;5;241;43m99\u001b[39;49m \u001b[38;5;241m+\u001b[39m\u001b[38;5;124m'\u001b[39m\u001b[38;5;124mburritos\u001b[39m\u001b[38;5;124m'\u001b[39m\n",
      "\u001b[1;31mTypeError\u001b[0m: can only concatenate str (not \"int\") to str"
     ]
    }
   ],
   "source": [
    "'I have eaten'+ 99 +'burritos'"
   ]
  },
  {
   "cell_type": "markdown",
   "id": "4902f709",
   "metadata": {},
   "source": [
    "* Given error says that \"can only concatenate str (not \"int\") to str\"  this means we cant use integer to perform concatination operation. In given expression we have 99 who act as integer thats why we got error\n",
    "* To  avoid this error we have to convert 99 into the string by using str function"
   ]
  },
  {
   "cell_type": "code",
   "execution_count": 38,
   "id": "69da8357",
   "metadata": {},
   "outputs": [
    {
     "name": "stdout",
     "output_type": "stream",
     "text": [
      "I have eaten 99burritos\n"
     ]
    }
   ],
   "source": [
    "print('I have eaten '+str(99)+'burritos')"
   ]
  },
  {
   "cell_type": "code",
   "execution_count": null,
   "id": "89ad22b8",
   "metadata": {},
   "outputs": [],
   "source": []
  },
  {
   "cell_type": "code",
   "execution_count": null,
   "id": "862bcf86",
   "metadata": {},
   "outputs": [],
   "source": []
  },
  {
   "cell_type": "code",
   "execution_count": null,
   "id": "a0bd786b",
   "metadata": {},
   "outputs": [],
   "source": []
  }
 ],
 "metadata": {
  "kernelspec": {
   "display_name": "Python 3 (ipykernel)",
   "language": "python",
   "name": "python3"
  },
  "language_info": {
   "codemirror_mode": {
    "name": "ipython",
    "version": 3
   },
   "file_extension": ".py",
   "mimetype": "text/x-python",
   "name": "python",
   "nbconvert_exporter": "python",
   "pygments_lexer": "ipython3",
   "version": "3.9.12"
  }
 },
 "nbformat": 4,
 "nbformat_minor": 5
}
