{
 "cells": [
  {
   "cell_type": "markdown",
   "id": "42ffb164",
   "metadata": {},
   "source": [
    "# Assignment 3"
   ]
  },
  {
   "cell_type": "markdown",
   "id": "89560397",
   "metadata": {},
   "source": [
    "### 1. Why are functions advantageous to have in your programs?\n",
    "\n",
    "###### Ans:"
   ]
  },
  {
   "cell_type": "markdown",
   "id": "c15f8252",
   "metadata": {},
   "source": [
    "1. Function can be reuse in program multiple time so it can meke code more modular and easier to maintain\n",
    "2. Creating Function in large program can help to read and understand code in easiest possible way\n",
    "3. Functions would allow us to test and debug individual parts of code, making it easier to identify and fix the bugs.\n",
    "4. Since function allows to write small piece of code for perticular task, so we can make it more organised by giving meaningful name "
   ]
  },
  {
   "cell_type": "markdown",
   "id": "9a59d7bb",
   "metadata": {},
   "source": [
    "### 2. When does the code in a function run: when it's specified or when it's called?\n",
    "\n",
    "###### Ans:"
   ]
  },
  {
   "cell_type": "markdown",
   "id": "9e9f06ab",
   "metadata": {},
   "source": [
    "> The code in a function run when the function is called, not when the function is specified."
   ]
  },
  {
   "cell_type": "markdown",
   "id": "d0148623",
   "metadata": {},
   "source": [
    "### 3. What statement creates a function?\n",
    "\n",
    "###### Ans:"
   ]
  },
  {
   "cell_type": "markdown",
   "id": "c11c432f",
   "metadata": {},
   "source": [
    "* In python function is created using __def__ statement\n",
    "* The def statment is followed by function name and set of parentheses which include parameters for prforming operation."
   ]
  },
  {
   "cell_type": "code",
   "execution_count": null,
   "id": "80cc2d80",
   "metadata": {},
   "outputs": [],
   "source": [
    "# for example\n",
    "def add(a,b):\n",
    "    return a+b"
   ]
  },
  {
   "cell_type": "markdown",
   "id": "d8158eee",
   "metadata": {},
   "source": [
    "### 4. What is the difference between a function and a function call?\n",
    "\n",
    "###### Ans:"
   ]
  },
  {
   "cell_type": "markdown",
   "id": "a9dd8d6a",
   "metadata": {},
   "source": [
    "* Both function and function call are different from each other\n",
    "* __Function:__ Function is a well coded program that is defined using def statement  and can take parameters as input to perform specific task and genrate a output value. It can be use multiple time inside a program so it's genrally resuable.\n",
    "* __Function call:__ Function call means invoking or calling that function which takes set of parameter as input inside parentheses passed to the function, unless a function is called there is no use of that function."
   ]
  },
  {
   "cell_type": "code",
   "execution_count": 3,
   "id": "c02606ae",
   "metadata": {},
   "outputs": [
    {
     "name": "stdout",
     "output_type": "stream",
     "text": [
      " Hello I am samir\n"
     ]
    }
   ],
   "source": [
    "# For example\n",
    "def greet(name):\n",
    "    print(f\" Hello I am {name}\")\n",
    "   \n",
    "greet(\"samir\")"
   ]
  },
  {
   "cell_type": "markdown",
   "id": "2fe69637",
   "metadata": {},
   "source": [
    "So, here greet is a function while greet(\"samir\") is a function call"
   ]
  },
  {
   "cell_type": "markdown",
   "id": "609af252",
   "metadata": {},
   "source": [
    "### 5. How many global scopes are there in a Python program? How many local scopes?\n",
    "\n",
    "###### Ans:"
   ]
  },
  {
   "cell_type": "markdown",
   "id": "dcf53a9e",
   "metadata": {},
   "source": [
    "* __Global scopes:__ In python program there is only one global scope. The global scope consist of function, classes and all variables which are defined at top level of python script or module.\n",
    "* __local scopes:__ In python program, the number of local scope depends on how many function and classes are defined because for each function and classes a new local scope is created, So the number of local scope will be different for different python program."
   ]
  },
  {
   "cell_type": "markdown",
   "id": "461093f1",
   "metadata": {},
   "source": [
    "### 6. What happens to variables in a local scope when the function call returns?\n",
    "\n",
    "###### Ans:"
   ]
  },
  {
   "cell_type": "markdown",
   "id": "838f90ce",
   "metadata": {},
   "source": [
    "> When function call returns, then the local scope that was created for thet function call will be destroyed along with all it's variable. That means once a function call returns, variable defined within it's local scope are no longer accessible."
   ]
  },
  {
   "cell_type": "markdown",
   "id": "52636a1e",
   "metadata": {},
   "source": [
    "### 7. What is the concept of a return value? Is it possible to have a return value in an expression?\n",
    "\n",
    "###### Ans:"
   ]
  },
  {
   "cell_type": "markdown",
   "id": "9438ff1f",
   "metadata": {},
   "source": [
    "> A return value is the value that is returne by a function when it completes executing.\n",
    "Yes, it is possible to have a return value in an expression."
   ]
  },
  {
   "cell_type": "code",
   "execution_count": 3,
   "id": "fcd2f28d",
   "metadata": {},
   "outputs": [],
   "source": [
    "# For example\n",
    "#    def add_and_double(a, b):\n",
    "#        return (a + b) * 2\n",
    "\n",
    "# The result of expression (a + b) * 2 will returned as the return value of the function."
   ]
  },
  {
   "cell_type": "markdown",
   "id": "726d30df",
   "metadata": {},
   "source": [
    "### 8. If a function does not have a return statement, what is the return value of a call to that function?\n",
    "\n",
    "###### Ans:"
   ]
  },
  {
   "cell_type": "markdown",
   "id": "c50d1816",
   "metadata": {},
   "source": [
    "> In python, if function does not have a return statement then it's return value of a called function will be __None__"
   ]
  },
  {
   "cell_type": "markdown",
   "id": "65d6e285",
   "metadata": {},
   "source": [
    "### 9. How do you make a function variable refer to the global variable?\n",
    "\n",
    "###### Ans:"
   ]
  },
  {
   "cell_type": "markdown",
   "id": "80186b2e",
   "metadata": {},
   "source": [
    "> To make a function variable refer to the global variable in python, we can usethe __global__ keyword. Here global keyword is used to declare variable as global variable."
   ]
  },
  {
   "cell_type": "markdown",
   "id": "99a3a0da",
   "metadata": {},
   "source": [
    "### 10. What is the data type of None?\n",
    "\n",
    "###### Ans:"
   ]
  },
  {
   "cell_type": "markdown",
   "id": "f8d1ccc0",
   "metadata": {},
   "source": [
    "> The datatype of None is __NoneType__"
   ]
  },
  {
   "cell_type": "markdown",
   "id": "3c9cfc75",
   "metadata": {},
   "source": [
    "### 11. What does the sentence import areallyourpetsnamederic do?\n",
    "\n",
    "###### Ans:"
   ]
  },
  {
   "cell_type": "markdown",
   "id": "e39ed3d6",
   "metadata": {},
   "source": [
    "> Sentence import areallyourpetsnamederic will import the module named areallyourpetsnamederic"
   ]
  },
  {
   "cell_type": "markdown",
   "id": "bd6d21ab",
   "metadata": {},
   "source": [
    "### 12. If you had a bacon() feature in a spam module, what would you call it after importing spam?\n",
    "\n",
    "###### Ans:"
   ]
  },
  {
   "cell_type": "markdown",
   "id": "44c84617",
   "metadata": {},
   "source": [
    "> If we have a bacon() feature in a spam module, then we would call it by syntax __spam.bacon()__ after importing spam module"
   ]
  },
  {
   "cell_type": "markdown",
   "id": "1450e74b",
   "metadata": {},
   "source": [
    "### 13. What can you do to save a programme from crashing if it encounters an error?\n",
    "###### Ans:"
   ]
  },
  {
   "cell_type": "markdown",
   "id": "0bf916a3",
   "metadata": {},
   "source": [
    "> To save a programme from crashing if it encounters an error we can use exception handeling. Exception handeling help us to identify and unerstand a error easily.\n",
    "We will write code inside a try block which can raise a exception and if an exception raised, the code inside exception block will execute.\n",
    "The Exception class is a common exception class that catches all types of exceptions. we can also use some specific exception classes, such as ValueError or FileNotFoundError, if we want to catch some specific types of exceptions."
   ]
  },
  {
   "cell_type": "markdown",
   "id": "586d7c0d",
   "metadata": {},
   "source": [
    "### 14. What is the purpose of the try clause? What is the purpose of the except clause?\n",
    "###### Ans:"
   ]
  },
  {
   "cell_type": "markdown",
   "id": "da28560d",
   "metadata": {},
   "source": [
    "> In python try clause is used to build a block of a code that might raise an exception on executing program while exception clause mainly used for exception handeling when any exception is raised from try block by cautching exception "
   ]
  },
  {
   "cell_type": "code",
   "execution_count": null,
   "id": "c24441a2",
   "metadata": {},
   "outputs": [],
   "source": []
  }
 ],
 "metadata": {
  "kernelspec": {
   "display_name": "Python 3 (ipykernel)",
   "language": "python",
   "name": "python3"
  },
  "language_info": {
   "codemirror_mode": {
    "name": "ipython",
    "version": 3
   },
   "file_extension": ".py",
   "mimetype": "text/x-python",
   "name": "python",
   "nbconvert_exporter": "python",
   "pygments_lexer": "ipython3",
   "version": "3.9.12"
  }
 },
 "nbformat": 4,
 "nbformat_minor": 5
}
