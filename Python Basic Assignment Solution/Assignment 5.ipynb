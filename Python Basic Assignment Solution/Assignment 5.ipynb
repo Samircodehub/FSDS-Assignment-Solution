{
 "cells": [
  {
   "cell_type": "markdown",
   "id": "771f513e",
   "metadata": {},
   "source": [
    "# Assignment 5"
   ]
  },
  {
   "cell_type": "markdown",
   "id": "06d9762d",
   "metadata": {},
   "source": [
    "### 1. What does an empty dictionarys code look like?"
   ]
  },
  {
   "cell_type": "markdown",
   "id": "272450fb",
   "metadata": {},
   "source": [
    "__Ans:__ In python dictionary is defined using curly bracket i.e. {}\n",
    "empty dictionary is a dictinary with absence of elements"
   ]
  },
  {
   "cell_type": "code",
   "execution_count": 21,
   "id": "d94f4e3c",
   "metadata": {},
   "outputs": [],
   "source": [
    "# syntax for empty list will look like\n",
    "\n",
    "empty_dict = {}         # or\n",
    "\n",
    "empty_dict = dict()"
   ]
  },
  {
   "cell_type": "markdown",
   "id": "b1e6ade4",
   "metadata": {},
   "source": [
    "### 2. What is the value of a dictionary value with the key & 'foo' and the value 42?\n",
    "###### Ans:"
   ]
  },
  {
   "cell_type": "code",
   "execution_count": 22,
   "id": "7046418c",
   "metadata": {},
   "outputs": [
    {
     "data": {
      "text/plain": [
       "{'foo': 42}"
      ]
     },
     "execution_count": 22,
     "metadata": {},
     "output_type": "execute_result"
    }
   ],
   "source": [
    "{'foo': 42}"
   ]
  },
  {
   "cell_type": "markdown",
   "id": "bb123eb0",
   "metadata": {},
   "source": [
    "### 3. What is the most significant distinction between a dictionary and a list?"
   ]
  },
  {
   "cell_type": "markdown",
   "id": "1c35f5a7",
   "metadata": {},
   "source": [
    "__Ans:__ \n",
    "* The most significant distinction between a dictionary and a list is that a list is ordered collection of items while dictionary is unordered collection of key-value pair.\n",
    "* Dictionary is defined using closed curly bracket i.e. __{}__ while list is defined using closed square bracket i.e. __[]__\n",
    "* values in list can be access by index number while values in dictionary access by corresponding key."
   ]
  },
  {
   "cell_type": "markdown",
   "id": "57a6a629",
   "metadata": {},
   "source": [
    "### 4. What happens if you try to access spam[foo] if spam is {'bar':100}?"
   ]
  },
  {
   "cell_type": "markdown",
   "id": "c18f011f",
   "metadata": {},
   "source": [
    "__Ans:__ We have given dictinary as {'bar':100} having key as 'bar' and value as 100,and if we try to access spam[foo] for given dictionary then we will end up by getting __key error__ because there is no such key 'foo' defined in spam dictionary."
   ]
  },
  {
   "cell_type": "code",
   "execution_count": 23,
   "id": "1c11ff24",
   "metadata": {},
   "outputs": [
    {
     "ename": "KeyError",
     "evalue": "'foo'",
     "output_type": "error",
     "traceback": [
      "\u001b[1;31m---------------------------------------------------------------------------\u001b[0m",
      "\u001b[1;31mKeyError\u001b[0m                                  Traceback (most recent call last)",
      "Input \u001b[1;32mIn [23]\u001b[0m, in \u001b[0;36m<cell line: 3>\u001b[1;34m()\u001b[0m\n\u001b[0;32m      1\u001b[0m \u001b[38;5;66;03m# code\u001b[39;00m\n\u001b[0;32m      2\u001b[0m spam \u001b[38;5;241m=\u001b[39m {\u001b[38;5;124m'\u001b[39m\u001b[38;5;124mbar\u001b[39m\u001b[38;5;124m'\u001b[39m:\u001b[38;5;241m100\u001b[39m}\n\u001b[1;32m----> 3\u001b[0m \u001b[43mspam\u001b[49m\u001b[43m[\u001b[49m\u001b[38;5;124;43m'\u001b[39;49m\u001b[38;5;124;43mfoo\u001b[39;49m\u001b[38;5;124;43m'\u001b[39;49m\u001b[43m]\u001b[49m\n",
      "\u001b[1;31mKeyError\u001b[0m: 'foo'"
     ]
    }
   ],
   "source": [
    "# code\n",
    "spam = {'bar':100}\n",
    "spam['foo']"
   ]
  },
  {
   "cell_type": "markdown",
   "id": "bd45bbef",
   "metadata": {},
   "source": [
    "### 5. If a dictionary is stored in spam, what is the difference between the expressions 'cat'in spam and & 'cat' in spam.keys()?"
   ]
  },
  {
   "cell_type": "markdown",
   "id": "4ee435c1",
   "metadata": {},
   "source": [
    "__Ans:__ Both the expression do same work that is both expression checks whether a value exist as a key in dictionary or not\n",
    "The given expression 'cat' in spam will checks if the string 'cat' is a key in the dictionary spam exist or not. If it is exist, the expression returns True, otherwise it returns False."
   ]
  },
  {
   "cell_type": "code",
   "execution_count": 12,
   "id": "27549929",
   "metadata": {},
   "outputs": [
    {
     "name": "stdout",
     "output_type": "stream",
     "text": [
      "False\n",
      "False\n",
      "True\n",
      "True\n"
     ]
    }
   ],
   "source": [
    "spam = {'foo': 42}\n",
    "\n",
    "print('cat' in spam)           # key not exist in spam > False\n",
    "print('cat' in spam.keys())    # key not exist in spam > False\n",
    "print('foo' in spam)           # key  exist in spam > True\n",
    "print('foo' in spam.keys())    # key  exist in spam > True"
   ]
  },
  {
   "cell_type": "markdown",
   "id": "f1ec013d",
   "metadata": {},
   "source": [
    "### 6. If a dictionary is stored in spam, what is the difference between the expressions 'cat' in spam and 'cat' in spam.values()?"
   ]
  },
  {
   "cell_type": "markdown",
   "id": "0a5a11bf",
   "metadata": {},
   "source": [
    "__Ans:__ Expression 'cat' in spam will check whether string 'cat' is a key in the dictionary spam exist or not.\n",
    "and expression 'cat' in spam.values() will check whether string 'cat' is a value in the dictionary spam exist or not.\n",
    "\n",
    "So, if we execute both expression\n",
    "1. 'cat' in spam will return false if it does't exist as key  in dictionary spam otherwise True\n",
    "2. 'cat' in spam.values() will return false if it does't exist as value in dictionary spam otherwise True"
   ]
  },
  {
   "cell_type": "code",
   "execution_count": 19,
   "id": "17fda083",
   "metadata": {},
   "outputs": [
    {
     "name": "stdout",
     "output_type": "stream",
     "text": [
      "False\n",
      "False\n",
      "True\n",
      "True\n"
     ]
    }
   ],
   "source": [
    "spam = {'foo': 42}\n",
    "\n",
    "print('cat' in spam)           # key not exist in spam > False\n",
    "print('cat' in spam.values())    # value not exist in spam > False\n",
    "print('foo' in spam)           # key  exist in spam > True\n",
    "print(42 in spam.values())    # value  exist in spam > True"
   ]
  },
  {
   "cell_type": "markdown",
   "id": "4837ae35",
   "metadata": {},
   "source": [
    "### 7. What is a shortcut for the following code?\n",
    "if 'color' not in spam:\n",
    "spam['color'] = 'black'"
   ]
  },
  {
   "cell_type": "markdown",
   "id": "1a03b833",
   "metadata": {},
   "source": [
    "__Ans:__ The below code can be consider as shortcut"
   ]
  },
  {
   "cell_type": "code",
   "execution_count": null,
   "id": "737b78e6",
   "metadata": {},
   "outputs": [],
   "source": [
    "spam.setdefault('color', 'black')"
   ]
  },
  {
   "cell_type": "markdown",
   "id": "c5da8941",
   "metadata": {},
   "source": [
    "The setdefault method is a convenient way to assign a default value to a dictionary key only if that key is not already present in the dictionary. If the key is already present, setdefault returns the value of that key without modifying the dictionary."
   ]
  },
  {
   "cell_type": "markdown",
   "id": "db26310f",
   "metadata": {},
   "source": [
    "### 8. How do you \"pretty print\" dictionary values using which module and function?"
   ]
  },
  {
   "cell_type": "markdown",
   "id": "158c46af",
   "metadata": {},
   "source": [
    "__Ans:__ We can use the pprint module (i.e. \"pretty-print\") to get the output of a dictionary in a readable and organized manner."
   ]
  },
  {
   "cell_type": "code",
   "execution_count": 25,
   "id": "8e5075ec",
   "metadata": {},
   "outputs": [
    {
     "name": "stdout",
     "output_type": "stream",
     "text": [
      "{'class': 1, 'fruit': 'apple', 'is_even': True}\n"
     ]
    }
   ],
   "source": [
    "import pprint\n",
    "\n",
    "spam = {'fruit': 'apple', 'class': 1, 'is_even': True}\n",
    "pprint.pprint(spam)"
   ]
  },
  {
   "cell_type": "markdown",
   "id": "7b302f79",
   "metadata": {},
   "source": [
    "The pprint function automatically sorts the keys of the dictionary and adds newlines."
   ]
  },
  {
   "cell_type": "code",
   "execution_count": null,
   "id": "c4937f4a",
   "metadata": {},
   "outputs": [],
   "source": []
  }
 ],
 "metadata": {
  "kernelspec": {
   "display_name": "Python 3 (ipykernel)",
   "language": "python",
   "name": "python3"
  },
  "language_info": {
   "codemirror_mode": {
    "name": "ipython",
    "version": 3
   },
   "file_extension": ".py",
   "mimetype": "text/x-python",
   "name": "python",
   "nbconvert_exporter": "python",
   "pygments_lexer": "ipython3",
   "version": "3.9.12"
  }
 },
 "nbformat": 4,
 "nbformat_minor": 5
}
