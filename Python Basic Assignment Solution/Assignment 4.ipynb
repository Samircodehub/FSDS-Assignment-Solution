{
 "cells": [
  {
   "cell_type": "markdown",
   "id": "c81b359d",
   "metadata": {},
   "source": [
    "# Assignment 4"
   ]
  },
  {
   "cell_type": "markdown",
   "id": "56323cca",
   "metadata": {},
   "source": [
    "### 1. What exactly is []?\n",
    "###### Ans:"
   ]
  },
  {
   "cell_type": "markdown",
   "id": "169260cf",
   "metadata": {},
   "source": [
    "In python square bracket [] is use to define list. It is data structure which stores ordered collection of items which can be of any type. List is a mutable.\n",
    "The given list is called empty list means it does not have any items."
   ]
  },
  {
   "cell_type": "markdown",
   "id": "d305ba44",
   "metadata": {},
   "source": [
    "### 2. In a list of values stored in a variable called spam, how would you assign the value hello as the third value? (Assume [2, 4, 6, 8, 10] are in spam.) \n",
    "###### Ans:"
   ]
  },
  {
   "cell_type": "code",
   "execution_count": 6,
   "id": "37f2169a",
   "metadata": {},
   "outputs": [],
   "source": [
    "spam= [2, 4, 6, 8, 10]"
   ]
  },
  {
   "cell_type": "code",
   "execution_count": 8,
   "id": "c0f71369",
   "metadata": {},
   "outputs": [
    {
     "data": {
      "text/plain": [
       "[2, 4, 'hello', 8, 10]"
      ]
     },
     "execution_count": 8,
     "metadata": {},
     "output_type": "execute_result"
    }
   ],
   "source": [
    " spam[2]='hello'      # We will use spam[2]='hello' for assign the value hello as the third value\n",
    " spam"
   ]
  },
  {
   "cell_type": "markdown",
   "id": "c1101f85",
   "metadata": {},
   "source": [
    "## Lets pretend the spam includes the list [a, b, c, d] for the next three queries."
   ]
  },
  {
   "cell_type": "markdown",
   "id": "0bf178e0",
   "metadata": {},
   "source": [
    "### 3. What is the value of spam[int(int('3' * 2) / 11)]?"
   ]
  },
  {
   "cell_type": "markdown",
   "id": "ff68a6eb",
   "metadata": {},
   "source": [
    "__Ans:__ The given expression is spam[int(int('3' * 2) / 11)]\n",
    "1. since 3 is string here, so '3'*2 will result in 33\n",
    "2. int(33) results in 33\n",
    "3. 33/11 results in 3\n",
    "4. int(3) result in 3\n",
    "5. spam[3] result in __d__"
   ]
  },
  {
   "cell_type": "code",
   "execution_count": 16,
   "id": "371b3db9",
   "metadata": {},
   "outputs": [
    {
     "data": {
      "text/plain": [
       "'d'"
      ]
     },
     "execution_count": 16,
     "metadata": {},
     "output_type": "execute_result"
    }
   ],
   "source": [
    "spam= ['a','b','c','d']\n",
    "spam[int(int('3' * 2) / 11)]"
   ]
  },
  {
   "cell_type": "markdown",
   "id": "9482bccc",
   "metadata": {},
   "source": [
    "### 4. What is the value of spam[-1]?\n",
    "###### Ans:"
   ]
  },
  {
   "cell_type": "markdown",
   "id": "35d56c0d",
   "metadata": {},
   "source": [
    "> list supports negative indexing, so spam[-1] will return __d__"
   ]
  },
  {
   "cell_type": "code",
   "execution_count": 18,
   "id": "b0a50830",
   "metadata": {},
   "outputs": [
    {
     "data": {
      "text/plain": [
       "'d'"
      ]
     },
     "execution_count": 18,
     "metadata": {},
     "output_type": "execute_result"
    }
   ],
   "source": [
    "spam[-1]"
   ]
  },
  {
   "cell_type": "markdown",
   "id": "f34afd74",
   "metadata": {},
   "source": [
    "### 5. What is the value of spam[:2]?\n"
   ]
  },
  {
   "cell_type": "markdown",
   "id": "200faa0f",
   "metadata": {},
   "source": [
    " __Ans:__ spam[:2] will return all items from 0 upto, excluding item from 2nd index i.e. ['a', 'b']"
   ]
  },
  {
   "cell_type": "code",
   "execution_count": 21,
   "id": "f7638c1c",
   "metadata": {},
   "outputs": [
    {
     "data": {
      "text/plain": [
       "['a', 'b']"
      ]
     },
     "execution_count": 21,
     "metadata": {},
     "output_type": "execute_result"
    }
   ],
   "source": [
    "spam[:2]"
   ]
  },
  {
   "cell_type": "markdown",
   "id": "61e8d423",
   "metadata": {},
   "source": [
    "## Lets pretend bacon has the list [3.14,'cat', 11, 'cat', 'True'] for the next three questions."
   ]
  },
  {
   "cell_type": "markdown",
   "id": "e14ccf54",
   "metadata": {},
   "source": [
    "### 6. What is the value of bacon.index('cat')?\n",
    "###### Ans:"
   ]
  },
  {
   "cell_type": "code",
   "execution_count": 24,
   "id": "4e42f346",
   "metadata": {},
   "outputs": [],
   "source": [
    "bacon=[3.14,'cat', 11, 'cat', 'True']"
   ]
  },
  {
   "cell_type": "markdown",
   "id": "3dcf20b5",
   "metadata": {},
   "source": [
    "> since bacon is a list, so bacon.index('cat') will return index value for 'cat' i.e. 1"
   ]
  },
  {
   "cell_type": "code",
   "execution_count": 25,
   "id": "44880312",
   "metadata": {},
   "outputs": [
    {
     "data": {
      "text/plain": [
       "1"
      ]
     },
     "execution_count": 25,
     "metadata": {},
     "output_type": "execute_result"
    }
   ],
   "source": [
    "bacon.index('cat')"
   ]
  },
  {
   "cell_type": "markdown",
   "id": "edc060e3",
   "metadata": {},
   "source": [
    "### 7. How does bacon.append(99) change the look of the list value in bacon?"
   ]
  },
  {
   "cell_type": "markdown",
   "id": "147f19e5",
   "metadata": {},
   "source": [
    " __Ans:__ Since list supports the append method which helps to add new element at the end of list, so bacon.append(99) will result as [3.14, 'cat', 11, 'cat', 'True', 99]"
   ]
  },
  {
   "cell_type": "code",
   "execution_count": 32,
   "id": "dfc48e61",
   "metadata": {},
   "outputs": [
    {
     "name": "stdout",
     "output_type": "stream",
     "text": [
      "[3.14, 'cat', 11, 'cat', 'True']\n",
      "\n",
      "\n",
      "After use of append to add 99\n",
      "[3.14, 'cat', 11, 'cat', 'True', 99]\n"
     ]
    }
   ],
   "source": [
    "bacon=[3.14,'cat', 11, 'cat', 'True']\n",
    "print(bacon)\n",
    "\n",
    "print('\\n')\n",
    "\n",
    "print('After use of append to add 99')\n",
    "bacon.append(99)\n",
    "print(bacon)"
   ]
  },
  {
   "cell_type": "markdown",
   "id": "c326a2d2",
   "metadata": {},
   "source": [
    "### 8. How does bacon.remove('cat') change the look of the list in bacon?"
   ]
  },
  {
   "cell_type": "markdown",
   "id": "0b028a18",
   "metadata": {},
   "source": [
    "__Ans:__ In list remove function is used to remove a element from list, so bacon.remove('cat') will remove element 'cat' from list and new list will look like [3.14, 11, 'cat', 'True']"
   ]
  },
  {
   "cell_type": "code",
   "execution_count": 35,
   "id": "7de1dd57",
   "metadata": {},
   "outputs": [
    {
     "name": "stdout",
     "output_type": "stream",
     "text": [
      "[3.14, 'cat', 11, 'cat', 'True']\n",
      "\n",
      "\n",
      "After use of remove function cat\n",
      "[3.14, 11, 'cat', 'True']\n"
     ]
    }
   ],
   "source": [
    "bacon=[3.14,'cat', 11, 'cat', 'True']\n",
    "print(bacon)\n",
    "\n",
    "print('\\n')\n",
    "\n",
    "print('After use of remove function for cat')\n",
    "bacon.remove('cat')\n",
    "print(bacon)"
   ]
  },
  {
   "cell_type": "markdown",
   "id": "e850b6e1",
   "metadata": {},
   "source": [
    "### 9. What are the list concatenation and list replication operators?\n",
    "###### Ans:"
   ]
  },
  {
   "cell_type": "markdown",
   "id": "435a4447",
   "metadata": {},
   "source": [
    "* __List concatenation:__ List concatination is performed in python using '+' operator to concatente two or more list\n",
    "* __List replication:__ List replication is performed in python using '*' operator to replicate a list a for number of times    "
   ]
  },
  {
   "cell_type": "code",
   "execution_count": null,
   "id": "b514ae7c",
   "metadata": {},
   "outputs": [],
   "source": [
    "# For example\n",
    "\n",
    "l1=[1,2,3]\n",
    "l2=[4,5,6]\n",
    "l3=['a','b','c']\n",
    "\n",
    "print('List concatenation of l1 and l2')\n",
    "# List concatenation (adding list l1 and l2)\n",
    "C = l1 + l2     \n",
    "print(C)\n",
    "\n",
    "print('\\n')\n",
    "\n",
    "print('List replication of l3')\n",
    "# List replication (relicate list l3 two times)\n",
    "R = l3 * 2\n",
    "print(R)"
   ]
  },
  {
   "cell_type": "markdown",
   "id": "e4416a72",
   "metadata": {},
   "source": [
    "### 10. What is difference between the list methods append() and insert()?"
   ]
  },
  {
   "cell_type": "markdown",
   "id": "d9381adf",
   "metadata": {},
   "source": [
    "__Ans:__ In python, for a list, append() method adds an element to end of list while insert() method can\n",
    "    adds an element at specific position"
   ]
  },
  {
   "cell_type": "code",
   "execution_count": 42,
   "id": "0c9ef5af",
   "metadata": {},
   "outputs": [
    {
     "name": "stdout",
     "output_type": "stream",
     "text": [
      "Appending 99 to list\n",
      "[1, 2, 3, 4, 99]\n",
      "\n",
      "\n",
      "inserting word samir to list \n",
      "[1, 2, 'samir', 3, 4, 99]\n"
     ]
    }
   ],
   "source": [
    "# For example\n",
    "\n",
    "l1=[1,2,3,4]\n",
    "\n",
    "print('Appending 99 to list')\n",
    "# List concatenation (adding list l1 and l2)\n",
    "l1.append(99)\n",
    "print(l1)\n",
    "\n",
    "print('\\n')\n",
    "\n",
    "print('inserting word samir to list ')\n",
    "l1.insert(2,'samir')   # adding name 'samir' at third position(second index)\n",
    "print(l1)"
   ]
  },
  {
   "cell_type": "markdown",
   "id": "27d0e71e",
   "metadata": {},
   "source": [
    "### 11. What are the two methods for removing items from a list?"
   ]
  },
  {
   "cell_type": "markdown",
   "id": "72b27068",
   "metadata": {},
   "source": [
    "__Ans:__ There are two methods two remove items from list i.e.\n",
    "__remove()__  and __pop()__"
   ]
  },
  {
   "cell_type": "code",
   "execution_count": 46,
   "id": "f9a0f186",
   "metadata": {},
   "outputs": [
    {
     "name": "stdout",
     "output_type": "stream",
     "text": [
      "removing apple from list l1 using remove()\n",
      "[1, 2, 3, 4, 5]\n",
      "\n",
      "\n",
      "removing 5 from list l2 using pop() \n",
      "[1, 2, 3, 4, 'apple']\n"
     ]
    }
   ],
   "source": [
    "# For example\n",
    "\n",
    "# lists\n",
    "l1=[1,2,3,4,'apple',5]\n",
    "l2=[1,2,3,4,'apple',5]\n",
    "\n",
    "\n",
    "print('removing apple from list l1 using remove()')\n",
    "l1.remove('apple')\n",
    "print(l1)\n",
    "\n",
    "print('\\n')\n",
    "\n",
    "print('removing 5 from list l2 using pop() ')\n",
    "l2.pop(5)  \n",
    "print(l2)"
   ]
  },
  {
   "cell_type": "markdown",
   "id": "28818c14",
   "metadata": {},
   "source": [
    "### 12. Describe how list values and string values are identical."
   ]
  },
  {
   "cell_type": "markdown",
   "id": "53d62907",
   "metadata": {},
   "source": [
    "__Ans:__ There are some ways where list and string are same\n",
    "1. In python Both list and string considered as sequence, which means hey are ordered collection of value\n",
    "2. Both allows to contain elements of any type including other list or string\n",
    "3. Both can be indexed, sliced and iterative"
   ]
  },
  {
   "cell_type": "markdown",
   "id": "db00860e",
   "metadata": {},
   "source": [
    "### 13. What is the difference between tuples and lists?"
   ]
  },
  {
   "cell_type": "markdown",
   "id": "881d4930",
   "metadata": {},
   "source": [
    "__Ans:__ \n",
    "\n",
    "* __Tuple:__ Tuple are immutable elements.Once they created, elements of a tuple cannot be changed. Tuples are defined by enclosing the elements in parentheses ( ), and separated by commas. Tuples can be used to store multiple items in a single variable.For example: my_tuple = (1, 2, \"apple\", 4.5)\n",
    "* __List:__ List are mutable elements. Unlike tuples,the elements of a list can be modified. Lists are defined by enclosing the elements in square brackets [ ], separated by commas. Lists can be used to store a collection of items in a directory. For example: my_list = [1, 2, \"banana\", 3.5]"
   ]
  },
  {
   "cell_type": "markdown",
   "id": "2cad9da2",
   "metadata": {},
   "source": [
    "### 14. How do you type a tuple value that only contains the integer 42?"
   ]
  },
  {
   "cell_type": "code",
   "execution_count": 48,
   "id": "3a8cb5c1",
   "metadata": {},
   "outputs": [
    {
     "name": "stdout",
     "output_type": "stream",
     "text": [
      "<class 'int'>\n",
      "<class 'tuple'>\n"
     ]
    }
   ],
   "source": [
    "tup1=(42)\n",
    "tup2=(42,)\n",
    "print(type(tup1))\n",
    "print(type(tup2))\n",
    "\n",
    "# Here is important note the comma after the integer"
   ]
  },
  {
   "cell_type": "markdown",
   "id": "8a3da86e",
   "metadata": {},
   "source": [
    "### 15. How do you get a list values tuple form? How do you get a tuple values list form?"
   ]
  },
  {
   "cell_type": "markdown",
   "id": "4384ea8f",
   "metadata": {},
   "source": [
    "__Ans:__\n",
    "* To convert list values to tuple form, we can use tuple() function\n",
    "* while to convert tuple values to list form, we can use list() function"
   ]
  },
  {
   "cell_type": "code",
   "execution_count": 49,
   "id": "5f24f779",
   "metadata": {},
   "outputs": [
    {
     "name": "stdout",
     "output_type": "stream",
     "text": [
      "list to tuple\n",
      "(1, 2, 3)\n",
      "\n",
      "\n",
      "tuple to list\n",
      "[1, 2, 3]\n"
     ]
    }
   ],
   "source": [
    "# For example\n",
    "\n",
    "print('list to tuple')\n",
    "l=[1,2,3]\n",
    "b=tuple(l)\n",
    "print(b)\n",
    "\n",
    "print('\\n')\n",
    "\n",
    "print('tuple to list')\n",
    "t=(1,2,3)\n",
    "c= list(t)\n",
    "print(c)"
   ]
  },
  {
   "cell_type": "markdown",
   "id": "bbae119e",
   "metadata": {},
   "source": [
    "### 16. Variables that contains list values are not necessarily lists themselves. Instead, what do they contain?"
   ]
  },
  {
   "cell_type": "markdown",
   "id": "93bc0ba3",
   "metadata": {},
   "source": [
    "__Ans:__\n",
    "* In python variables that contains list values are not necessarily lists themselves but insted,they contains reference to that list.\n",
    "* In Python, variables do not store the actual values of objects, instead they store the references to that objects. When we assign any list to a variable, then the variable stores a reference to the list, and not a copy of the list itself. This means that any changes we make to the list will be reflected in the variable as well."
   ]
  },
  {
   "cell_type": "code",
   "execution_count": 50,
   "id": "f5784af1",
   "metadata": {},
   "outputs": [
    {
     "name": "stdout",
     "output_type": "stream",
     "text": [
      "[1, 2, 3, 4, 5]\n",
      "[1, 2, 3, 4, 5, 6]\n"
     ]
    }
   ],
   "source": [
    "# example\n",
    "a=[1,2,3,4,5]\n",
    "b=a\n",
    "print(b)\n",
    "\n",
    "a.append(6)\n",
    "print(b)"
   ]
  },
  {
   "cell_type": "markdown",
   "id": "207af42b",
   "metadata": {},
   "source": [
    "### 17. How do you distinguish between copy.copy() and copy.deepcopy()?"
   ]
  },
  {
   "cell_type": "markdown",
   "id": "cf62463c",
   "metadata": {},
   "source": [
    "__Ans:__ In python, module copy has two function i.e. copy.copy() and copy.deepcopy() to make copies of objects\n",
    "* __copy.copy()__ copy.copy() creates shallow copy of object, which means that it creates a new object with new refference but the elements inside the object will still referenced to the original object.\n",
    "* __copy.deepcopy()__ copy.deepcopy() creates a deep copy of object, which means that it create a new object with a new refference and elements inside the object will also copied and give new refference."
   ]
  },
  {
   "cell_type": "code",
   "execution_count": null,
   "id": "ca7fab00",
   "metadata": {},
   "outputs": [],
   "source": []
  }
 ],
 "metadata": {
  "kernelspec": {
   "display_name": "Python 3 (ipykernel)",
   "language": "python",
   "name": "python3"
  },
  "language_info": {
   "codemirror_mode": {
    "name": "ipython",
    "version": 3
   },
   "file_extension": ".py",
   "mimetype": "text/x-python",
   "name": "python",
   "nbconvert_exporter": "python",
   "pygments_lexer": "ipython3",
   "version": "3.9.12"
  }
 },
 "nbformat": 4,
 "nbformat_minor": 5
}
