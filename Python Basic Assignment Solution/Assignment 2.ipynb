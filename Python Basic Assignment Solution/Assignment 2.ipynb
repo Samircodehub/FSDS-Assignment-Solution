{
 "cells": [
  {
   "cell_type": "markdown",
   "id": "59391990",
   "metadata": {},
   "source": [
    "# Assignment 2"
   ]
  },
  {
   "cell_type": "markdown",
   "id": "cc75e97d",
   "metadata": {},
   "source": [
    "### 1.What are the two values of the Boolean data type? How do you write them?\n",
    "\n",
    "###### Ans:"
   ]
  },
  {
   "cell_type": "markdown",
   "id": "ca0800a5",
   "metadata": {},
   "source": [
    "* The two values of boolean data types are True and False.\n",
    "* They are written as 'True' and 'False'. Both values first letter should be capital.\n",
    "* These values can be used in conditional problem to test where certain criteria met or not"
   ]
  },
  {
   "cell_type": "markdown",
   "id": "27a8b18f",
   "metadata": {},
   "source": [
    "### 2. What are the three different types of Boolean operators\n",
    "\n",
    "###### Ans:"
   ]
  },
  {
   "cell_type": "markdown",
   "id": "b0eb1598",
   "metadata": {},
   "source": [
    "The three different types of Boolean operators are __'AND', 'OR', 'NOT'__"
   ]
  },
  {
   "cell_type": "markdown",
   "id": "b42f1260",
   "metadata": {},
   "source": [
    "### 3. Make a list of each Boolean operators truth tables (i.e. every possible combination of Boolean values for the operator and what it evaluate ).\n",
    "\n",
    "###### Ans:"
   ]
  },
  {
   "cell_type": "markdown",
   "id": "85aca924",
   "metadata": {},
   "source": [
    "###### AND Operator Truth table\n",
    "\n",
    "* True and True = True\n",
    "* True and False = False\n",
    "* False and True = False\n",
    "* False and False = False\n",
    "\n",
    "\n",
    "###### OR Operator Truth table\n",
    "\n",
    "* True or True = True\n",
    "* True or False = True\n",
    "* False or True = True\n",
    "* False or False = False\n",
    "\n",
    "###### NOT Operator Truth table\n",
    "\n",
    "* not True = Flase\n",
    "* not False = True"
   ]
  },
  {
   "cell_type": "markdown",
   "id": "b4c45e80",
   "metadata": {},
   "source": [
    "### 4. What are the values of the following expressions?\n",
    "(5 > 4) and (3 == 5) ;\n",
    "not (5 > 4) ;\n",
    "(5 > 4) or (3 == 5) ;\n",
    "not ((5 > 4) or (3 == 5)) ;\n",
    "(True and True) and (True == False) ;\n",
    "(not False) or (not True)\n",
    "\n",
    "###### Ans:"
   ]
  },
  {
   "cell_type": "code",
   "execution_count": 60,
   "id": "7a4f8436",
   "metadata": {},
   "outputs": [
    {
     "name": "stdout",
     "output_type": "stream",
     "text": [
      "False\n",
      "False\n",
      "True\n",
      "False\n",
      "False\n",
      "True\n"
     ]
    }
   ],
   "source": [
    "print((5 > 4) and (3 == 5)) # Flase\n",
    "print(not (5 > 4)) # False\n",
    "print((5 > 4) or (3 == 5)) # True\n",
    "print(not ((5 > 4) or (3 == 5)))   # False\n",
    "print((True and True) and (True == False))    # False\n",
    "print((not False) or (not True))    # True"
   ]
  },
  {
   "cell_type": "markdown",
   "id": "32b98142",
   "metadata": {},
   "source": [
    "### 5. What are the six comparison operators?\n",
    "\n",
    "###### Ans:"
   ]
  },
  {
   "cell_type": "markdown",
   "id": "19d94a29",
   "metadata": {},
   "source": [
    "1. '>'  = greater than\n",
    "2. '<'  = less than\n",
    "3. '>='  = greater than or equal to\n",
    "4. '<='  = less than or equal to\n",
    "5. '=='  = equal to\n",
    "6. '=!'  = not equal to"
   ]
  },
  {
   "cell_type": "markdown",
   "id": "3474051e",
   "metadata": {},
   "source": [
    "### 6. How do you tell the difference between the equal to and assignment operators?Describe a condition and when you would use one.\n",
    "\n",
    "###### Ans:"
   ]
  },
  {
   "cell_type": "markdown",
   "id": "e9f392dd",
   "metadata": {},
   "source": [
    "* The __equal to (==) operator__ is a camparision operator which is use to campare two values "
   ]
  },
  {
   "cell_type": "code",
   "execution_count": 24,
   "id": "001d5bbe",
   "metadata": {},
   "outputs": [
    {
     "name": "stdout",
     "output_type": "stream",
     "text": [
      "both are not equal\n"
     ]
    }
   ],
   "source": [
    "# Example\n",
    "# Here equal to operator will campare both values\n",
    "#if both value same then o/p will be True\n",
    "#if both value not same then o/p will be False\n",
    "\n",
    "# example\n",
    "a=2\n",
    "b=3\n",
    "\n",
    "if  a==b:\n",
    "    print(\"both are equal\")\n",
    "else:\n",
    "    print(\"both are not equal\")"
   ]
  },
  {
   "cell_type": "markdown",
   "id": "3fe9925d",
   "metadata": {},
   "source": [
    "* On the other hand __assignment operator__ is use for the assigning any information or value to variable"
   ]
  },
  {
   "cell_type": "code",
   "execution_count": 25,
   "id": "0229faaa",
   "metadata": {},
   "outputs": [
    {
     "name": "stdout",
     "output_type": "stream",
     "text": [
      "5\n"
     ]
    }
   ],
   "source": [
    "# Example\n",
    "# Here we assign value i.e. 2 to variable 'a'\n",
    "\n",
    "# example\n",
    "a=2\n",
    "b=3\n",
    "\n",
    "total = a+b     # assigning output of sum to variable total\n",
    "print(total)"
   ]
  },
  {
   "cell_type": "markdown",
   "id": "2cf3ccba",
   "metadata": {},
   "source": [
    "* When should we use equal to and  assignment operators\n",
    "1. When we want to campare two value then we will use equal to operator ('==')\n",
    "2. When we want assign any value to variable then we will use assignment operators ('=')"
   ]
  },
  {
   "cell_type": "markdown",
   "id": "995b02ed",
   "metadata": {},
   "source": [
    "### 7. Identify the three blocks in this code:\n",
    "spam = 0\n",
    "if spam == 10:\n",
    "print('egg')\n",
    "if spam > 5:\n",
    "print('bacon')\n",
    "else:\n",
    "print('ham')\n",
    "print('spam')\n",
    "print('spam')\n",
    "\n",
    "###### Ans:"
   ]
  },
  {
   "cell_type": "code",
   "execution_count": 27,
   "id": "751dd3a8",
   "metadata": {},
   "outputs": [
    {
     "name": "stdout",
     "output_type": "stream",
     "text": [
      "ham\n",
      "spam\n",
      "spam\n"
     ]
    }
   ],
   "source": [
    "# In programming languages the indentation level help to uderstand beginning and ending of code block\n",
    "# The line of code which is indented one level further that block statement, will be consider as part of that code block\n",
    "\n",
    "spam = 0\n",
    "\n",
    "if spam == 10:       # block 1 start\n",
    "    print('egg')     # block 1 end\n",
    "    \n",
    "if spam > 5:         # block 2 start\n",
    "    print('bacon')\n",
    "else:\n",
    "    print('ham')    # block 2 end\n",
    "\n",
    "print('spam')       # block 3 start\n",
    "print('spam')       # block 3 end"
   ]
  },
  {
   "cell_type": "markdown",
   "id": "c90a4429",
   "metadata": {},
   "source": [
    "### 8. Write code that prints Hello if 1 is stored in spam, prints Howdy if 2 is stored in spam, and prints  Greetings! if anything else is stored in spam.\n",
    "\n",
    "###### Ans:"
   ]
  },
  {
   "cell_type": "code",
   "execution_count": 35,
   "id": "ac669ff7",
   "metadata": {},
   "outputs": [
    {
     "name": "stdout",
     "output_type": "stream",
     "text": [
      "Hello\n",
      "Greetings!\n"
     ]
    }
   ],
   "source": [
    "spam =1    \n",
    "\n",
    "if spam ==1:\n",
    "    print('Hello')\n",
    "if spam ==2:\n",
    "    print('Howdy')\n",
    "else:\n",
    "    print ('Greetings!')"
   ]
  },
  {
   "cell_type": "code",
   "execution_count": 36,
   "id": "da17f11e",
   "metadata": {},
   "outputs": [
    {
     "name": "stdout",
     "output_type": "stream",
     "text": [
      "Howdy\n"
     ]
    }
   ],
   "source": [
    "spam = 2    \n",
    "\n",
    "if spam ==1:\n",
    "    print('Hello')\n",
    "if spam ==2:\n",
    "    print('Howdy')\n",
    "else:\n",
    "    print ('Greetings!')"
   ]
  },
  {
   "cell_type": "code",
   "execution_count": 37,
   "id": "da4064e1",
   "metadata": {},
   "outputs": [
    {
     "name": "stdout",
     "output_type": "stream",
     "text": [
      "Greetings!\n"
     ]
    }
   ],
   "source": [
    "spam = 5    \n",
    "\n",
    "if spam ==1:\n",
    "    print('Hello')\n",
    "if spam ==2:\n",
    "    print('Howdy')\n",
    "else:\n",
    "    print ('Greetings!')"
   ]
  },
  {
   "cell_type": "markdown",
   "id": "65c689fe",
   "metadata": {},
   "source": [
    "### 9.If your programme is stuck in an endless loop, what keys you’ll press?\n",
    "\n",
    "###### Ans:"
   ]
  },
  {
   "cell_type": "markdown",
   "id": "96c7642b",
   "metadata": {},
   "source": [
    "If programme is stuck in an endless loop then following keys can be help to stop it.\n",
    "1. Ctrl + C \n",
    "2. Ctrl + Z\n",
    "3. Ctrl + Break\n",
    "4. Task manager"
   ]
  },
  {
   "cell_type": "markdown",
   "id": "1e59559b",
   "metadata": {},
   "source": [
    "### 10. How can you tell the difference between break and continue?\n",
    "\n",
    "###### Ans:"
   ]
  },
  {
   "cell_type": "markdown",
   "id": "c056d4bb",
   "metadata": {},
   "source": [
    "* Both the break and continue used to control flow of loop in python\n",
    "##### Break: \n",
    "* Break statement is used to exit the loop permanently before the loop condition get satisfied, In other words when break statement executed, control is transferred out of the loop to the next statement following the loop. For example:"
   ]
  },
  {
   "cell_type": "code",
   "execution_count": 39,
   "id": "e7fb2a14",
   "metadata": {},
   "outputs": [
    {
     "name": "stdout",
     "output_type": "stream",
     "text": [
      "0\n",
      "1\n",
      "2\n",
      "3\n",
      "4\n"
     ]
    }
   ],
   "source": [
    "for i in range(10):\n",
    "    if i == 5:\n",
    "        break\n",
    "    print(i)    "
   ]
  },
  {
   "cell_type": "markdown",
   "id": "ddca3147",
   "metadata": {},
   "source": [
    "So when we execute break then it will exit the control before if condition get satisfied, so given program will run only for i equal to 1 to 4 and it will not run for i equal to 5"
   ]
  },
  {
   "cell_type": "markdown",
   "id": "1d85118e",
   "metadata": {},
   "source": [
    "###### Continue\n",
    "* continue statement is used to skip the current iteration of a loop and move on to the next iteration.\n",
    "For example"
   ]
  },
  {
   "cell_type": "code",
   "execution_count": null,
   "id": "2984a0fe",
   "metadata": {},
   "outputs": [],
   "source": [
    "for i in range(10):\n",
    "    if i % 2 == 0:   # condition for even\n",
    "        continue      # it will skip all iteration for that value of i whichever satisfies the given condition\n",
    "    print(i)"
   ]
  },
  {
   "cell_type": "markdown",
   "id": "26167cd3",
   "metadata": {},
   "source": [
    "So when the continue statement execute, it will skip the iteration of the loop when i is even. and output of this code will be the an odd numbers i.e. 1, 3, 5, 7, and 9."
   ]
  },
  {
   "cell_type": "markdown",
   "id": "24cedf4b",
   "metadata": {},
   "source": [
    "### 11. In a for loop, what is the difference between range(10), range(0, 10), and range(0, 10, 1)?\n",
    "\n",
    "###### Ans:"
   ]
  },
  {
   "cell_type": "markdown",
   "id": "25a0ca7a",
   "metadata": {},
   "source": [
    "The differences are as below:\n",
    "* __range(10)__     : It will genrate a sequence of number from 0 upto 9 but not include 10, with default step size of 1 so it is equivalent to range(0,10,1)\n",
    "* __range(0, 10)__  : It will genrate a sequence of number from 0 upto 9 but not include 10 , with default step size of 1 so it is equivalent to range(10) or range(0,10,1)\n",
    "* __range(0, 10, 1)__ : It will genrate a sequence of number from 0 upto 9 but not include 10 , with default step size of 1 so it is equivalent to range(10) or range(0, 10)\n",
    "\n",
    "* So,in a for loop all three formate of ranges would generate same sequence of number i.e. 0,1,2,3,4,5,6,7,8, and 9"
   ]
  },
  {
   "cell_type": "markdown",
   "id": "4acc649f",
   "metadata": {},
   "source": [
    "### 12. Write a short program that prints the numbers 1 to 10 using a for loop. Then write an equivalent program that prints the numbers 1 to 10 using a while loop.\n",
    "\n",
    "###### Ans:"
   ]
  },
  {
   "cell_type": "code",
   "execution_count": 52,
   "id": "891b353b",
   "metadata": {},
   "outputs": [
    {
     "name": "stdout",
     "output_type": "stream",
     "text": [
      "using for loop\n",
      "1 2 3 4 5 6 7 8 9 10 \n",
      "\n",
      "using while loop\n",
      "1 2 3 4 5 6 7 8 9 10 "
     ]
    }
   ],
   "source": [
    "print('using for loop')\n",
    "for i in range(1,11):\n",
    "    print(i, end=\" \")\n",
    "\n",
    "print('\\n')\n",
    "\n",
    "print('using while loop')\n",
    "i=1\n",
    "while i<=10:\n",
    "    print(i,end=\" \")\n",
    "    i += 1"
   ]
  },
  {
   "cell_type": "markdown",
   "id": "91968320",
   "metadata": {},
   "source": [
    "### 13. If you had a function named bacon() inside a module named spam, how would you call it after importing spam?\n",
    "###### Ans:"
   ]
  },
  {
   "cell_type": "markdown",
   "id": "a2f5cbc2",
   "metadata": {},
   "source": [
    "If we have module named spam and funcion named bacon() then we can call the function like\n",
    "__spam.bacon()__"
   ]
  },
  {
   "cell_type": "code",
   "execution_count": null,
   "id": "9b242fd4",
   "metadata": {},
   "outputs": [],
   "source": []
  }
 ],
 "metadata": {
  "kernelspec": {
   "display_name": "Python 3 (ipykernel)",
   "language": "python",
   "name": "python3"
  },
  "language_info": {
   "codemirror_mode": {
    "name": "ipython",
    "version": 3
   },
   "file_extension": ".py",
   "mimetype": "text/x-python",
   "name": "python",
   "nbconvert_exporter": "python",
   "pygments_lexer": "ipython3",
   "version": "3.9.12"
  }
 },
 "nbformat": 4,
 "nbformat_minor": 5
}
